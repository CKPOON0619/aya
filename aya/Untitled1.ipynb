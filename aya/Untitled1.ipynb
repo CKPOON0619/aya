{
 "cells": [
  {
   "cell_type": "code",
   "execution_count": 104,
   "metadata": {},
   "outputs": [],
   "source": [
    "import networkx as nx"
   ]
  },
  {
   "cell_type": "code",
   "execution_count": 105,
   "metadata": {},
   "outputs": [
    {
     "data": {
      "text/plain": [
       "{'a': 0.22222222222222224,\n",
       " 'b': 0.22222222222222224,\n",
       " 'c': 0.22222222222222224,\n",
       " 'NA': 0.33333333333333337}"
      ]
     },
     "execution_count": 105,
     "metadata": {},
     "output_type": "execute_result"
    }
   ],
   "source": [
    "G=nx.DiGraph()\n",
    "G.add_nodes_from(['a','b','c','NA'])\n",
    "G.add_weighted_edges_from([('a','b',0.5),('b','c',0.5),('c','a',0.5),('a','NA',0.5),('b','NA',0.5),('c','NA',0.5)])\n",
    "nx.pagerank(G,alpha=0.5,max_iter=10000000,tol=1e-100)"
   ]
  },
  {
   "cell_type": "code",
   "execution_count": 112,
   "metadata": {},
   "outputs": [
    {
     "data": {
      "text/plain": [
       "{'a': 0.24937655860349128,\n",
       " 'b': 0.24937655860349128,\n",
       " 'c': 0.24937655860349128,\n",
       " 'NA': 0.2518703241895262}"
      ]
     },
     "execution_count": 112,
     "metadata": {},
     "output_type": "execute_result"
    }
   ],
   "source": [
    "G=nx.DiGraph()\n",
    "G.add_nodes_from(['a','b','c','NA'])\n",
    "G.add_weighted_edges_from([('a','b',0.5),('b','c',0.5),('c','a',0.5),('a','NA',0.5),('b','NA',0.5),('c','NA',0.5)])\n",
    "nx.pagerank(G,alpha=0.01,max_iter=100,tol=1e-100)"
   ]
  },
  {
   "cell_type": "code",
   "execution_count": null,
   "metadata": {},
   "outputs": [],
   "source": [
    "G=nx.DiGraph()\n",
    "G.add_nodes_from(['a1','a2','a3','a4','b1','b1','b1','b1','c1','c2','c3','c4','NA'])\n",
    "G.add_weighted_edges_from([('a2','b2',0.5),('a3','b2',0.5),('a4','b2',0.5),('b','c',0.5),('c','a',0.5),('a','NA',0.5),('b','NA',0.5),('c','b',0.5)])\n",
    "nx.pagerank(G,alpha=0.5,max_iter=10000000,tol=1e-100)"
   ]
  }
 ],
 "metadata": {
  "kernelspec": {
   "display_name": "Python 3",
   "language": "python",
   "name": "python3"
  },
  "language_info": {
   "codemirror_mode": {
    "name": "ipython",
    "version": 3
   },
   "file_extension": ".py",
   "mimetype": "text/x-python",
   "name": "python",
   "nbconvert_exporter": "python",
   "pygments_lexer": "ipython3",
   "version": "3.6.5"
  }
 },
 "nbformat": 4,
 "nbformat_minor": 2
}
